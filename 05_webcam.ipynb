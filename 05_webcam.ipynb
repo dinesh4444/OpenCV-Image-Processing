{
 "cells": [
  {
   "cell_type": "markdown",
   "id": "9d91d360",
   "metadata": {},
   "source": [
    "## How to open wecam using openCV"
   ]
  },
  {
   "cell_type": "code",
   "execution_count": 1,
   "id": "1830d987",
   "metadata": {},
   "outputs": [],
   "source": [
    "# importing libraries\n",
    "import cv2\n",
    "import sys"
   ]
  },
  {
   "cell_type": "code",
   "execution_count": 7,
   "id": "cf926081",
   "metadata": {},
   "outputs": [],
   "source": [
    "s = 0         # cam flag 0 for the primary cam, 1=secondary camera, 2=third camera\n",
    "if len(sys.argv) > 1:\n",
    "    s = sys.argv[1]\n",
    "    \n",
    "cam = cv2.VideoCapture(s)           # vdeocapture function\n",
    "\n",
    "win_name = \"Cmera Previev\"          # Name of window\n",
    "cv2.namedWindow(win_name, cv2.WINDOW_NORMAL)\n",
    "\n",
    "while cv2.waitKey() != 27:         # Infinite loop with wait key 1 ms, 27 is foe escape\n",
    "    has_frame, frame = cam.read()\n",
    "    if not has_frame:\n",
    "        break\n",
    "    cv2.imshow(win_name, frame)     # shows the window name and current frame\n",
    "    \n",
    "cam.release()                       # realeasing current camera\n",
    "cv2.destroyAllWindows()             # destoying window for current cam\n",
    "        "
   ]
  },
  {
   "cell_type": "code",
   "execution_count": null,
   "id": "b81b635c",
   "metadata": {},
   "outputs": [],
   "source": []
  }
 ],
 "metadata": {
  "kernelspec": {
   "display_name": "Python 3 (ipykernel)",
   "language": "python",
   "name": "python3"
  },
  "language_info": {
   "codemirror_mode": {
    "name": "ipython",
    "version": 3
   },
   "file_extension": ".py",
   "mimetype": "text/x-python",
   "name": "python",
   "nbconvert_exporter": "python",
   "pygments_lexer": "ipython3",
   "version": "3.10.9"
  }
 },
 "nbformat": 4,
 "nbformat_minor": 5
}
